{
 "cells": [
  {
   "cell_type": "markdown",
   "metadata": {},
   "source": [
    "### We will keep changes isolated from the original python code "
   ]
  },
  {
   "cell_type": "markdown",
   "metadata": {},
   "source": [
    "### Our original python functions \n",
    "we copy and past from TaneAlgorithm.ipynb the funnctions"
   ]
  },
  {
   "cell_type": "code",
   "execution_count": 3,
   "metadata": {},
   "outputs": [],
   "source": [
    "################################\n",
    "#We Implort the needed packages\n",
    "################################\n",
    "from __future__ import print_function\n",
    "import numpy as np\n",
    "import csv\n",
    "from datetime import datetime\n",
    "from collections import defaultdict\n",
    "\n",
    "################################################################\n",
    "#we copy and past our functions and packages \n",
    "################################################################\n",
    "#Initializing our partitions\n",
    "partitions = {}\n",
    "def get_frozenset(x):\n",
    "    return frozenset([x,])\n",
    "\n",
    "#We define the function mergee and we explain it's usage in the next cell of code \n",
    "\n",
    "def mergee(ps1, ps2):\n",
    "    merged = []\n",
    "    m_Row = {}\n",
    "    for i, p1 in enumerate(ps1):\n",
    "        for row_j in p1:\n",
    "#we denote by iRow the jeme row \n",
    "            m_Row[row_j] = i\n",
    "    for p2 in ps2:\n",
    "        tmp = defaultdict(list)\n",
    "        for row_j in p2:\n",
    "            tmp[m_Row[row_j]].append(row_j)\n",
    "        merged += tmp.values()\n",
    "    return merged\n",
    "\n",
    "#Therefore, first check whether the value has been calculated at the head of the function.\n",
    "#If it has been calculated, the stored value is returned directly, otherwise the classification discussion:\n",
    "def get_partition(attr):\n",
    "    if attr in partitions:\n",
    "        return partitions[attr]\n",
    "    \n",
    "#If the length of the attribute set is 0(which means that no attr are used for division)\n",
    "#so we return an empty set.\n",
    "\n",
    "    if len(attr) == 0:\n",
    "        partitions[attr] = []\n",
    "        #If the length of the attribute set is 1 (the attribute will be used as the basis for division)\n",
    "#and a map is used to aggregate the equivalence classes under the division basis. \n",
    "#The set of these equivalence classes is the desired result.\n",
    "\n",
    "    elif len(attr) == 1:\n",
    "        iAttr = tuple(attr)[0]\n",
    "        d = defaultdict(list)\n",
    "        for index, row in enumerate(table):\n",
    "            d[row[iAttr]].append(index)\n",
    "        partitions[attr] = d.values()\n",
    "#The length of the attribute set is greater than or equal to 2 (the length is set to l), \n",
    "#and the current division result can be obtained by using the previous division result. \n",
    "#The specific implementation method is:\n",
    "#Obtain the two divisions corresponding to any two different attribute subsets of \n",
    "#length l-1 in the current attribute set.\n",
    "#The product of these two divisions is the desired result. \n",
    "#For the detailed process, see the function mergee.\n",
    "\n",
    "    else:\n",
    "        attr_tuple = tuple(attr)\n",
    "        ps1 = get_partition(frozenset(attr_tuple[0:-1]))\n",
    "        ps2 = get_partition(frozenset(attr_tuple[0:-2] + attr_tuple[-1:]))\n",
    "        partitions[attr] = mergee(ps1, ps2)\n",
    "\n",
    "    return partitions[attr]\n",
    "\n",
    "\n",
    "#test if X\\{E} -> E is valid\n",
    "#X is a set of number, E is a number\n",
    "def validity_test(X, E):\n",
    "    return len(get_partition(X - {E})) == len(get_partition(X))\n",
    "\n",
    "\n",
    "def dependencies_discovery(L): # L is a set of tuple of number\n",
    "    L_new = L.copy()\n",
    "    for X in L:\n",
    "        Xs = frozenset(X)\n",
    "        RHS[X] = R\n",
    "        for E in Xs:\n",
    "            RHS[X] = RHS[X] & RHS[Xs - {E}]\n",
    "        for E in RHS[X] & Xs:\n",
    "            if validity_test(Xs, E):\n",
    "                fds.append((Xs - {E}, E))\n",
    "                RHS[X] -= get_frozenset(E)\n",
    "                RHS[X] = RHS[X] & Xs\n",
    "        if len(RHS[X]) == 0:\n",
    "            L_new.remove(X)\n",
    "\n",
    "    return L_new\n",
    "\n",
    "\n",
    "def generate_next_level(L):#----> next level or (layer)\n",
    "    # list comprehension?\n",
    "    Ln = set([])\n",
    "    for l1 in L:\n",
    "        for l2 in L:\n",
    "            if l1 != l2 and len(l1 - l2) == 1:\n",
    "                Ln.add(l1 | l2)\n",
    "    return Ln\n",
    "\n",
    " #create an output file \n",
    "\n",
    "def output_fd(fds):\n",
    "    with open(output_filename, 'w') as f:\n",
    "        #creating an output file of the desired format in write mode\n",
    "                                         \n",
    "        fds_sorted = sorted(fds)\n",
    "        for fd in fds_sorted:\n",
    "            str = ''\n",
    "            for l in sorted(list(fd[0])):\n",
    "                str += '%d ' % (l+1)\n",
    "            str += '-> %d\\n' % (fd[1]+1)\n",
    "            f.write(str)\n",
    "            #also with creating the output file & we print the result here in the jupyter notebook\n",
    "            print(str, end='')"
   ]
  },
  {
   "cell_type": "code",
   "execution_count": 4,
   "metadata": {},
   "outputs": [],
   "source": [
    "#we begin by creating a SparkContext that loads settings from system properties\n",
    "from pyspark import SparkContext, SparkConf"
   ]
  },
  {
   "cell_type": "code",
   "execution_count": 44,
   "metadata": {},
   "outputs": [
    {
     "name": "stdout",
     "output_type": "stream",
     "text": [
      "[['5.1', '3.5', '1.4', '0.2', 'Iris-setosa'], ['4.9', '3.0', '1.4', '0.2', 'Iris-setosa'], ['4.7', '3.2', '1.3', '0.2', 'Iris-setosa'], ['4.6', '3.1', '1.5', '0.2', 'Iris-setosa'], ['5.0', '3.6', '1.4', '0.2', 'Iris-setosa'], ['5.4', '3.9', '1.7', '0.4', 'Iris-setosa'], ['4.6', '3.4', '1.4', '0.3', 'Iris-setosa'], ['5.0', '3.4', '1.5', '0.2', 'Iris-setosa'], ['4.4', '2.9', '1.4', '0.2', 'Iris-setosa'], ['4.9', '3.1', '1.5', '0.1', 'Iris-setosa'], ['5.4', '3.7', '1.5', '0.2', 'Iris-setosa'], ['4.8', '3.4', '1.6', '0.2', 'Iris-setosa'], ['4.8', '3.0', '1.4', '0.1', 'Iris-setosa'], ['4.3', '3.0', '1.1', '0.1', 'Iris-setosa'], ['5.8', '4.0', '1.2', '0.2', 'Iris-setosa'], ['5.7', '4.4', '1.5', '0.4', 'Iris-setosa'], ['5.4', '3.9', '1.3', '0.4', 'Iris-setosa'], ['5.1', '3.5', '1.4', '0.3', 'Iris-setosa'], ['5.7', '3.8', '1.7', '0.3', 'Iris-setosa'], ['5.1', '3.8', '1.5', '0.3', 'Iris-setosa'], ['5.4', '3.4', '1.7', '0.2', 'Iris-setosa'], ['5.1', '3.7', '1.5', '0.4', 'Iris-setosa'], ['4.6', '3.6', '1.0', '0.2', 'Iris-setosa'], ['5.1', '3.3', '1.7', '0.5', 'Iris-setosa'], ['4.8', '3.4', '1.9', '0.2', 'Iris-setosa'], ['5.0', '3.0', '1.6', '0.2', 'Iris-setosa'], ['5.0', '3.4', '1.6', '0.4', 'Iris-setosa'], ['5.2', '3.5', '1.5', '0.2', 'Iris-setosa'], ['5.2', '3.4', '1.4', '0.2', 'Iris-setosa'], ['4.7', '3.2', '1.6', '0.2', 'Iris-setosa'], ['4.8', '3.1', '1.6', '0.2', 'Iris-setosa'], ['5.4', '3.4', '1.5', '0.4', 'Iris-setosa'], ['5.2', '4.1', '1.5', '0.1', 'Iris-setosa'], ['5.5', '4.2', '1.4', '0.2', 'Iris-setosa'], ['4.9', '3.1', '1.5', '0.1', 'Iris-setosa'], ['5.0', '3.2', '1.2', '0.2', 'Iris-setosa'], ['5.5', '3.5', '1.3', '0.2', 'Iris-setosa'], ['4.9', '3.1', '1.5', '0.1', 'Iris-setosa'], ['4.4', '3.0', '1.3', '0.2', 'Iris-setosa'], ['5.1', '3.4', '1.5', '0.2', 'Iris-setosa'], ['5.0', '3.5', '1.3', '0.3', 'Iris-setosa'], ['4.5', '2.3', '1.3', '0.3', 'Iris-setosa'], ['4.4', '3.2', '1.3', '0.2', 'Iris-setosa'], ['5.0', '3.5', '1.6', '0.6', 'Iris-setosa'], ['5.1', '3.8', '1.9', '0.4', 'Iris-setosa'], ['4.8', '3.0', '1.4', '0.3', 'Iris-setosa'], ['5.1', '3.8', '1.6', '0.2', 'Iris-setosa'], ['4.6', '3.2', '1.4', '0.2', 'Iris-setosa'], ['5.3', '3.7', '1.5', '0.2', 'Iris-setosa'], ['5.0', '3.3', '1.4', '0.2', 'Iris-setosa'], ['7.0', '3.2', '4.7', '1.4', 'Iris-versicolor'], ['6.4', '3.2', '4.5', '1.5', 'Iris-versicolor'], ['6.9', '3.1', '4.9', '1.5', 'Iris-versicolor'], ['5.5', '2.3', '4.0', '1.3', 'Iris-versicolor'], ['6.5', '2.8', '4.6', '1.5', 'Iris-versicolor'], ['5.7', '2.8', '4.5', '1.3', 'Iris-versicolor'], ['6.3', '3.3', '4.7', '1.6', 'Iris-versicolor'], ['4.9', '2.4', '3.3', '1.0', 'Iris-versicolor'], ['6.6', '2.9', '4.6', '1.3', 'Iris-versicolor'], ['5.2', '2.7', '3.9', '1.4', 'Iris-versicolor'], ['5.0', '2.0', '3.5', '1.0', 'Iris-versicolor'], ['5.9', '3.0', '4.2', '1.5', 'Iris-versicolor'], ['6.0', '2.2', '4.0', '1.0', 'Iris-versicolor'], ['6.1', '2.9', '4.7', '1.4', 'Iris-versicolor'], ['5.6', '2.9', '3.6', '1.3', 'Iris-versicolor'], ['6.7', '3.1', '4.4', '1.4', 'Iris-versicolor'], ['5.6', '3.0', '4.5', '1.5', 'Iris-versicolor'], ['5.8', '2.7', '4.1', '1.0', 'Iris-versicolor'], ['6.2', '2.2', '4.5', '1.5', 'Iris-versicolor'], ['5.6', '2.5', '3.9', '1.1', 'Iris-versicolor'], ['5.9', '3.2', '4.8', '1.8', 'Iris-versicolor'], ['6.1', '2.8', '4.0', '1.3', 'Iris-versicolor'], ['6.3', '2.5', '4.9', '1.5', 'Iris-versicolor'], ['6.1', '2.8', '4.7', '1.2', 'Iris-versicolor'], ['6.4', '2.9', '4.3', '1.3', 'Iris-versicolor'], ['6.6', '3.0', '4.4', '1.4', 'Iris-versicolor'], ['6.8', '2.8', '4.8', '1.4', 'Iris-versicolor'], ['6.7', '3.0', '5.0', '1.7', 'Iris-versicolor'], ['6.0', '2.9', '4.5', '1.5', 'Iris-versicolor'], ['5.7', '2.6', '3.5', '1.0', 'Iris-versicolor'], ['5.5', '2.4', '3.8', '1.1', 'Iris-versicolor'], ['5.5', '2.4', '3.7', '1.0', 'Iris-versicolor'], ['5.8', '2.7', '3.9', '1.2', 'Iris-versicolor'], ['6.0', '2.7', '5.1', '1.6', 'Iris-versicolor'], ['5.4', '3.0', '4.5', '1.5', 'Iris-versicolor'], ['6.0', '3.4', '4.5', '1.6', 'Iris-versicolor'], ['6.7', '3.1', '4.7', '1.5', 'Iris-versicolor'], ['6.3', '2.3', '4.4', '1.3', 'Iris-versicolor'], ['5.6', '3.0', '4.1', '1.3', 'Iris-versicolor'], ['5.5', '2.5', '4.0', '1.3', 'Iris-versicolor'], ['5.5', '2.6', '4.4', '1.2', 'Iris-versicolor'], ['6.1', '3.0', '4.6', '1.4', 'Iris-versicolor'], ['5.8', '2.6', '4.0', '1.2', 'Iris-versicolor'], ['5.0', '2.3', '3.3', '1.0', 'Iris-versicolor'], ['5.6', '2.7', '4.2', '1.3', 'Iris-versicolor'], ['5.7', '3.0', '4.2', '1.2', 'Iris-versicolor'], ['5.7', '2.9', '4.2', '1.3', 'Iris-versicolor'], ['6.2', '2.9', '4.3', '1.3', 'Iris-versicolor'], ['5.1', '2.5', '3.0', '1.1', 'Iris-versicolor'], ['5.7', '2.8', '4.1', '1.3', 'Iris-versicolor'], ['6.3', '3.3', '6.0', '2.5', 'Iris-virginica'], ['5.8', '2.7', '5.1', '1.9', 'Iris-virginica'], ['7.1', '3.0', '5.9', '2.1', 'Iris-virginica'], ['6.3', '2.9', '5.6', '1.8', 'Iris-virginica'], ['6.5', '3.0', '5.8', '2.2', 'Iris-virginica'], ['7.6', '3.0', '6.6', '2.1', 'Iris-virginica'], ['4.9', '2.5', '4.5', '1.7', 'Iris-virginica'], ['7.3', '2.9', '6.3', '1.8', 'Iris-virginica'], ['6.7', '2.5', '5.8', '1.8', 'Iris-virginica'], ['7.2', '3.6', '6.1', '2.5', 'Iris-virginica'], ['6.5', '3.2', '5.1', '2.0', 'Iris-virginica'], ['6.4', '2.7', '5.3', '1.9', 'Iris-virginica'], ['6.8', '3.0', '5.5', '2.1', 'Iris-virginica'], ['5.7', '2.5', '5.0', '2.0', 'Iris-virginica'], ['5.8', '2.8', '5.1', '2.4', 'Iris-virginica'], ['6.4', '3.2', '5.3', '2.3', 'Iris-virginica'], ['6.5', '3.0', '5.5', '1.8', 'Iris-virginica'], ['7.7', '3.8', '6.7', '2.2', 'Iris-virginica'], ['7.7', '2.6', '6.9', '2.3', 'Iris-virginica'], ['6.0', '2.2', '5.0', '1.5', 'Iris-virginica'], ['6.9', '3.2', '5.7', '2.3', 'Iris-virginica'], ['5.6', '2.8', '4.9', '2.0', 'Iris-virginica'], ['7.7', '2.8', '6.7', '2.0', 'Iris-virginica'], ['6.3', '2.7', '4.9', '1.8', 'Iris-virginica'], ['6.7', '3.3', '5.7', '2.1', 'Iris-virginica'], ['7.2', '3.2', '6.0', '1.8', 'Iris-virginica'], ['6.2', '2.8', '4.8', '1.8', 'Iris-virginica'], ['6.1', '3.0', '4.9', '1.8', 'Iris-virginica'], ['6.4', '2.8', '5.6', '2.1', 'Iris-virginica'], ['7.2', '3.0', '5.8', '1.6', 'Iris-virginica'], ['7.4', '2.8', '6.1', '1.9', 'Iris-virginica'], ['7.9', '3.8', '6.4', '2.0', 'Iris-virginica'], ['6.4', '2.8', '5.6', '2.2', 'Iris-virginica'], ['6.3', '2.8', '5.1', '1.5', 'Iris-virginica'], ['6.1', '2.6', '5.6', '1.4', 'Iris-virginica'], ['7.7', '3.0', '6.1', '2.3', 'Iris-virginica'], ['6.3', '3.4', '5.6', '2.4', 'Iris-virginica'], ['6.4', '3.1', '5.5', '1.8', 'Iris-virginica'], ['6.0', '3.0', '4.8', '1.8', 'Iris-virginica'], ['6.9', '3.1', '5.4', '2.1', 'Iris-virginica'], ['6.7', '3.1', '5.6', '2.4', 'Iris-virginica'], ['6.9', '3.1', '5.1', '2.3', 'Iris-virginica'], ['5.8', '2.7', '5.1', '1.9', 'Iris-virginica'], ['6.8', '3.2', '5.9', '2.3', 'Iris-virginica'], ['6.7', '3.3', '5.7', '2.5', 'Iris-virginica'], ['6.7', '3.0', '5.2', '2.3', 'Iris-virginica'], ['6.3', '2.5', '5.0', '1.9', 'Iris-virginica'], ['6.5', '3.0', '5.2', '2.0', 'Iris-virginica'], ['6.2', '3.4', '5.4', '2.3', 'Iris-virginica'], ['5.9', '3.0', '5.1', '1.8', 'Iris-virginica']]\n"
     ]
    }
   ],
   "source": [
    "################################\n",
    "#Our main \n",
    "################################\n",
    "\n",
    "#The entry point into all functionality in Spark is the SparkSession class. \n",
    "#To create a basic SparkSession, just use SparkSession.builder:\n",
    "from pyspark.sql import SparkSession\n",
    "\n",
    "spark = SparkSession \\\n",
    "    .builder \\\n",
    "    .master(\"local\") \\\n",
    "    .appName(\"Amen_TANE_algorithm\") \\\n",
    "    .config(\"spark.some.config.option\", \"some-value\") \\\n",
    "    .getOrCreate()\n",
    "\n",
    "\n",
    "\n",
    "input_filename = 'iris.csv'\n",
    "output_filename = 'output-iris-Spark.txt'\n",
    "\n",
    "\n",
    "#Apply the same context of the python implementation BEFORE\n",
    "sc = spark.sparkContext\n",
    "# Load a text file and convert each line to a Row.\n",
    "rdd = sc.textFile(input_filename)\n",
    "# Each line is converted to a tuple.\n",
    "rdd = rdd.mapPartitions(lambda x: csv.reader(x))\n",
    "table=rdd.collect()\n",
    "print(table)"
   ]
  },
  {
   "cell_type": "code",
   "execution_count": 45,
   "metadata": {},
   "outputs": [],
   "source": [
    "maxL = len(table[0])\n",
    "R = frozenset(range(maxL))\n",
    "RHS = {frozenset([]): R}\n",
    "fds = []\n"
   ]
  },
  {
   "cell_type": "code",
   "execution_count": 46,
   "metadata": {},
   "outputs": [
    {
     "name": "stdout",
     "output_type": "stream",
     "text": [
      "dependencies discovery at level: 2\n",
      "dependencies discovery at level: 3\n",
      "dependencies discovery at level: 4\n",
      "dependencies discovery at level: 5\n",
      "1 3 4 -> 5\n",
      "2 3 4 -> 5\n",
      "1 2 4 -> 5\n",
      "1 2 3 -> 5\n",
      "The output-adult-Spark.txt has been created\n"
     ]
    }
   ],
   "source": [
    "if __name__ == '__main__' :\n",
    "    \n",
    "    L = frozenset(map(get_frozenset, R))\n",
    "    L = dependencies_discovery(L)\n",
    "    for i in range(1, maxL):\n",
    "        L = dependencies_discovery(generate_next_level(L))\n",
    "        print('dependencies discovery at level: %d' %(i+1))\n",
    "\n",
    "   \n",
    "    output_fd(fds)\n",
    "   \n",
    "    #print in the notebook\n",
    "    print('The output-adult-Spark.txt has been created')"
   ]
  },
  {
   "cell_type": "code",
   "execution_count": null,
   "metadata": {},
   "outputs": [],
   "source": []
  },
  {
   "cell_type": "code",
   "execution_count": null,
   "metadata": {},
   "outputs": [],
   "source": []
  }
 ],
 "metadata": {
  "kernelspec": {
   "display_name": "Python 3",
   "language": "python",
   "name": "python3"
  },
  "language_info": {
   "codemirror_mode": {
    "name": "ipython",
    "version": 3
   },
   "file_extension": ".py",
   "mimetype": "text/x-python",
   "name": "python",
   "nbconvert_exporter": "python",
   "pygments_lexer": "ipython3",
   "version": "3.7.6"
  }
 },
 "nbformat": 4,
 "nbformat_minor": 4
}
